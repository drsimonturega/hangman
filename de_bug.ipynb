{
 "cells": [
  {
   "cell_type": "code",
   "execution_count": null,
   "metadata": {},
   "outputs": [],
   "source": []
  },
  {
   "cell_type": "markdown",
   "metadata": {},
   "source": [
    "# Hangman debug"
   ]
  },
  {
   "cell_type": "markdown",
   "metadata": {},
   "source": [
    "### 09/10/23"
   ]
  },
  {
   "cell_type": "code",
   "execution_count": 2,
   "metadata": {},
   "outputs": [
    {
     "name": "stdout",
     "output_type": "stream",
     "text": [
      "blackcurrent\n",
      "Good guess!\n",
      "g\n"
     ]
    },
    {
     "ename": "TypeError",
     "evalue": "check_guess() missing 2 required positional arguments: 'self' and 'guess'",
     "output_type": "error",
     "traceback": [
      "\u001b[0;31m---------------------------------------------------------------------------\u001b[0m",
      "\u001b[0;31mTypeError\u001b[0m                                 Traceback (most recent call last)",
      "\u001b[0;32m<ipython-input-2-a138e377ac62>\u001b[0m in \u001b[0;36m<module>\u001b[0;34m\u001b[0m\n\u001b[1;32m     59\u001b[0m \u001b[0;34m\u001b[0m\u001b[0m\n\u001b[1;32m     60\u001b[0m \u001b[0mwordtran\u001b[0m \u001b[0;34m=\u001b[0m \u001b[0mHangman\u001b[0m\u001b[0;34m(\u001b[0m\u001b[0;34m[\u001b[0m\u001b[0;34m'apple'\u001b[0m\u001b[0;34m,\u001b[0m \u001b[0;34m'pear'\u001b[0m\u001b[0;34m,\u001b[0m \u001b[0;34m'blackcurrent'\u001b[0m\u001b[0;34m,\u001b[0m \u001b[0;34m'raspberry'\u001b[0m\u001b[0;34m,\u001b[0m \u001b[0;34m'mango'\u001b[0m\u001b[0;34m]\u001b[0m\u001b[0;34m)\u001b[0m\u001b[0;34m.\u001b[0m\u001b[0msel_word\u001b[0m\u001b[0;34m(\u001b[0m\u001b[0;34m)\u001b[0m\u001b[0;34m\u001b[0m\u001b[0;34m\u001b[0m\u001b[0m\n\u001b[0;32m---> 61\u001b[0;31m \u001b[0mHangman\u001b[0m\u001b[0;34m.\u001b[0m\u001b[0mask_for_input\u001b[0m\u001b[0;34m(\u001b[0m\u001b[0mwordtran\u001b[0m\u001b[0;34m)\u001b[0m\u001b[0;34m\u001b[0m\u001b[0;34m\u001b[0m\u001b[0m\n\u001b[0m",
      "\u001b[0;32m<ipython-input-2-a138e377ac62>\u001b[0m in \u001b[0;36mask_for_input\u001b[0;34m(self)\u001b[0m\n\u001b[1;32m     48\u001b[0m                 \u001b[0mprint\u001b[0m\u001b[0;34m(\u001b[0m\u001b[0mguess\u001b[0m\u001b[0;34m)\u001b[0m\u001b[0;34m\u001b[0m\u001b[0;34m\u001b[0m\u001b[0m\n\u001b[1;32m     49\u001b[0m                 \u001b[0mcol_inp_guess\u001b[0m \u001b[0;34m=\u001b[0m \u001b[0;32mFalse\u001b[0m\u001b[0;34m\u001b[0m\u001b[0;34m\u001b[0m\u001b[0m\n\u001b[0;32m---> 50\u001b[0;31m                 \u001b[0mHangman\u001b[0m\u001b[0;34m.\u001b[0m\u001b[0mcheck_guess\u001b[0m\u001b[0;34m(\u001b[0m\u001b[0;34m)\u001b[0m\u001b[0;34m\u001b[0m\u001b[0;34m\u001b[0m\u001b[0m\n\u001b[0m\u001b[1;32m     51\u001b[0m                 \u001b[0mlist_of_guesses\u001b[0m \u001b[0;34m=\u001b[0m \u001b[0mlist_of_guesses\u001b[0m\u001b[0;34m.\u001b[0m\u001b[0mappend\u001b[0m\u001b[0;34m(\u001b[0m\u001b[0mguess\u001b[0m\u001b[0;34m)\u001b[0m\u001b[0;34m\u001b[0m\u001b[0;34m\u001b[0m\u001b[0m\n\u001b[1;32m     52\u001b[0m \u001b[0;34m\u001b[0m\u001b[0m\n",
      "\u001b[0;31mTypeError\u001b[0m: check_guess() missing 2 required positional arguments: 'self' and 'guess'"
     ]
    }
   ],
   "source": [
    "import random\n",
    "\n",
    "#Hangman class\n",
    "\n",
    "\n",
    "class Hangman:\n",
    "#\n",
    "    def __init__(self, word_list, num_lives = 5):\n",
    "        self.word_list = word_list\n",
    "        self.num_lives = num_lives\n",
    "        #self.word = word \n",
    "        self.word_guessed = []\n",
    "        self.list_of_guesses = []\n",
    "        self.word = None\n",
    "        self.guess = str()\n",
    "        \n",
    "\n",
    "    def sel_word(self):\n",
    "    #Defining a list of favorite fruits\n",
    "        #word_list = ['apple', 'pear', 'blackcurrent', 'raspberry', 'mango']\n",
    "        self.word = random.choice(self.word_list)\n",
    "        print(f'{self.word}')\n",
    "        return self.word\n",
    "\n",
    "    # A function that checks weather the letter in the string parsed from ask_for_input() is in a string word.\n",
    "    def check_guess(self, guess):\n",
    "        print(guess)\n",
    "        self.guess = guess.lower()\n",
    "        if self.guess in self.word:\n",
    "                print(f'Good guess!')\n",
    "        else:\n",
    "            print(f'Sorry, {self.guess} is not in the word. Try again.')\n",
    "        return\n",
    "\n",
    "    def ask_for_input(self): \n",
    "        list_of_guesses = []\n",
    "        col_inp_guess = True\n",
    "        while col_inp_guess == True:\n",
    "            guess = input('Enter a letter please, ')\n",
    "            if len(guess) != 1 and guess.isalpha() != True:\n",
    "                print(guess)\n",
    "                print('Invalid letter. Please, enter a single alphabetical character.')\n",
    "            elif guess in list_of_guesses:\n",
    "                print('You already tried that letter!')\n",
    "                continue\n",
    "            else:\n",
    "                print('Good guess!')\n",
    "                print(guess)\n",
    "                col_inp_guess = False\n",
    "                Hangman.check_guess()\n",
    "                list_of_guesses = list_of_guesses.append(guess)\n",
    "            \n",
    "            \n",
    "        return #guess\n",
    "#word = 'apple'\n",
    "\n",
    "\n",
    "\n",
    "\n",
    "wordtran = Hangman(['apple', 'pear', 'blackcurrent', 'raspberry', 'mango']).sel_word()      \n",
    "Hangman.ask_for_input(wordtran)"
   ]
  },
  {
   "cell_type": "code",
   "execution_count": 12,
   "metadata": {},
   "outputs": [
    {
     "name": "stdout",
     "output_type": "stream",
     "text": [
      "Good guess!\n",
      "d\n",
      "d\n",
      "Sorry, d is not in the word. Try again.\n"
     ]
    }
   ],
   "source": [
    "# A function that checks weather the letter in the string parsed from ask_for_input() is in a string word.\n",
    "def check_guess(guess):\n",
    "    print(guess)\n",
    "    guess = guess.lower()\n",
    "    if guess in word:\n",
    "            print(f'Good guess!')\n",
    "    else:\n",
    "        print(f'Sorry, {guess} is not in the word. Try again.')\n",
    "    return\n",
    "\n",
    "def ask_for_input(): \n",
    "    list_of_guesses = list()\n",
    "    col_inp_guess = True\n",
    "    while col_inp_guess == True:\n",
    "        guess = input('Enter a letter please, ')\n",
    "        if len(guess) != 1 and guess.isalpha() != True:\n",
    "            print(guess)\n",
    "            print('Invalid letter. Please, enter a single alphabetical character.')\n",
    "        elif guess in list_of_guesses:\n",
    "            print('You already tried that letter!')\n",
    "            continue\n",
    "        else:\n",
    "            print('Good guess!')\n",
    "            print(guess)\n",
    "            col_inp_guess = False\n",
    "            check_guess(guess)\n",
    "            list_of_guesses = list_of_guesses.append(guess)\n",
    "            \n",
    "word = \"apple\"\n",
    "ask_for_input()\n",
    "#print(list_of_guesses)\n",
    "\n",
    "            "
   ]
  },
  {
   "cell_type": "code",
   "execution_count": 14,
   "metadata": {},
   "outputs": [
    {
     "name": "stdout",
     "output_type": "stream",
     "text": [
      "True\n"
     ]
    }
   ],
   "source": [
    "my_str = 'hello world'\n",
    "print('world' in my_str)"
   ]
  },
  {
   "cell_type": "code",
   "execution_count": 18,
   "metadata": {},
   "outputs": [
    {
     "ename": "AttributeError",
     "evalue": "'str' object has no attribute 'contains'",
     "output_type": "error",
     "traceback": [
      "\u001b[0;31m---------------------------------------------------------------------------\u001b[0m",
      "\u001b[0;31mAttributeError\u001b[0m                            Traceback (most recent call last)",
      "\u001b[0;32m<ipython-input-18-942f61f4690a>\u001b[0m in \u001b[0;36m<module>\u001b[0;34m\u001b[0m\n\u001b[1;32m      1\u001b[0m \u001b[0mmy_str\u001b[0m \u001b[0;34m=\u001b[0m \u001b[0;34m'hello world'\u001b[0m\u001b[0;34m\u001b[0m\u001b[0;34m\u001b[0m\u001b[0m\n\u001b[0;32m----> 2\u001b[0;31m \u001b[0mprint\u001b[0m\u001b[0;34m(\u001b[0m\u001b[0mmy_str\u001b[0m\u001b[0;34m.\u001b[0m\u001b[0mcontains\u001b[0m\u001b[0;34m(\u001b[0m\u001b[0;34m'world'\u001b[0m\u001b[0;34m)\u001b[0m\u001b[0;34m)\u001b[0m\u001b[0;34m\u001b[0m\u001b[0;34m\u001b[0m\u001b[0m\n\u001b[0m",
      "\u001b[0;31mAttributeError\u001b[0m: 'str' object has no attribute 'contains'"
     ]
    }
   ],
   "source": [
    "my_str = 'hello world'\n",
    "print(my_str.contains('world'))"
   ]
  },
  {
   "cell_type": "code",
   "execution_count": 30,
   "metadata": {},
   "outputs": [
    {
     "name": "stdout",
     "output_type": "stream",
     "text": [
      "sel_word, apple\n"
     ]
    },
    {
     "ename": "AttributeError",
     "evalue": "'str' object has no attribute 'guess'",
     "output_type": "error",
     "traceback": [
      "\u001b[0;31m---------------------------------------------------------------------------\u001b[0m",
      "\u001b[0;31mAttributeError\u001b[0m                            Traceback (most recent call last)",
      "\u001b[0;32m<ipython-input-30-acd2c1c5aa6b>\u001b[0m in \u001b[0;36m<module>\u001b[0;34m\u001b[0m\n\u001b[1;32m     42\u001b[0m \u001b[0;34m\u001b[0m\u001b[0m\n\u001b[1;32m     43\u001b[0m \u001b[0mwordtran\u001b[0m \u001b[0;34m=\u001b[0m \u001b[0mHangman\u001b[0m\u001b[0;34m(\u001b[0m\u001b[0;34m'apple'\u001b[0m\u001b[0;34m)\u001b[0m\u001b[0;34m.\u001b[0m\u001b[0msel_word\u001b[0m\u001b[0;34m(\u001b[0m\u001b[0;34m)\u001b[0m\u001b[0;34m\u001b[0m\u001b[0;34m\u001b[0m\u001b[0m\n\u001b[0;32m---> 44\u001b[0;31m \u001b[0mHangman\u001b[0m\u001b[0;34m.\u001b[0m\u001b[0mask_for_input\u001b[0m\u001b[0;34m(\u001b[0m\u001b[0mwordtran\u001b[0m\u001b[0;34m)\u001b[0m\u001b[0;34m\u001b[0m\u001b[0;34m\u001b[0m\u001b[0m\n\u001b[0m",
      "\u001b[0;32m<ipython-input-30-acd2c1c5aa6b>\u001b[0m in \u001b[0;36mask_for_input\u001b[0;34m(self)\u001b[0m\n\u001b[1;32m     30\u001b[0m \u001b[0;34m\u001b[0m\u001b[0m\n\u001b[1;32m     31\u001b[0m     \u001b[0;32mdef\u001b[0m \u001b[0mask_for_input\u001b[0m\u001b[0;34m(\u001b[0m\u001b[0mself\u001b[0m\u001b[0;34m)\u001b[0m\u001b[0;34m:\u001b[0m\u001b[0;34m\u001b[0m\u001b[0;34m\u001b[0m\u001b[0m\n\u001b[0;32m---> 32\u001b[0;31m             \u001b[0mself\u001b[0m\u001b[0;34m.\u001b[0m\u001b[0mguess\u001b[0m \u001b[0;34m=\u001b[0m \u001b[0minput\u001b[0m\u001b[0;34m(\u001b[0m\u001b[0;34m'Enter a letter please, '\u001b[0m\u001b[0;34m)\u001b[0m\u001b[0;34m\u001b[0m\u001b[0;34m\u001b[0m\u001b[0m\n\u001b[0m\u001b[1;32m     33\u001b[0m             \u001b[0mprint\u001b[0m\u001b[0;34m(\u001b[0m\u001b[0mself\u001b[0m\u001b[0;34m.\u001b[0m\u001b[0mguess\u001b[0m \u001b[0;32min\u001b[0m \u001b[0mself\u001b[0m\u001b[0;34m.\u001b[0m\u001b[0mlist_of_guesses\u001b[0m\u001b[0;34m)\u001b[0m\u001b[0;34m\u001b[0m\u001b[0;34m\u001b[0m\u001b[0m\n\u001b[1;32m     34\u001b[0m             \u001b[0;32mreturn\u001b[0m\u001b[0;34m\u001b[0m\u001b[0;34m\u001b[0m\u001b[0m\n",
      "\u001b[0;31mAttributeError\u001b[0m: 'str' object has no attribute 'guess'"
     ]
    }
   ],
   "source": [
    "class Hangman:\n",
    "    list_of_guesses = list()\n",
    "#\n",
    "    def __init__(self, word_list, num_lives = 5):\n",
    "        self.word_list = word_list\n",
    "        self.num_lives = num_lives\n",
    "        self.word_guessed = []\n",
    "        self.word = None\n",
    "        self.guess = None\n",
    "        self.list_of_guesses = list()\n",
    "        \n",
    "\n",
    "    def sel_word(self):\n",
    "        #Defining a list of favorite fruits\n",
    "        #print(self.word_list)\n",
    "        self.word = str(self.word_list)\n",
    "        print(f'sel_word, {self.word}')\n",
    "        return self.word\n",
    "\n",
    "    # A function that checks weather the letter in the string parsed from ask_for_input() is in a string word.\n",
    "    def check_guess(self, guess):\n",
    "        print(guess)\n",
    "        guess = guess.lower()\n",
    "        print(self.word)\n",
    "        if guess in self.word:\n",
    "                print(f'Good guess!')\n",
    "        else:\n",
    "            print(f'Sorry, {guess} is not in the word. Try again.')\n",
    "        return\n",
    "\n",
    "    def ask_for_input(self):\n",
    "            self.guess = input('Enter a letter please, ')\n",
    "            print(self.guess in list_of_guesses)\n",
    "            return\n",
    "            \n",
    "                   \n",
    "        \n",
    "#word = 'apple'\n",
    "\n",
    "\n",
    "\n",
    "\n",
    "wordtran = Hangman('apple').sel_word()    \n",
    "Hangman.ask_for_input(wordtran)"
   ]
  },
  {
   "cell_type": "code",
   "execution_count": null,
   "metadata": {},
   "outputs": [],
   "source": []
  },
  {
   "cell_type": "code",
   "execution_count": null,
   "metadata": {},
   "outputs": [],
   "source": []
  }
 ],
 "metadata": {
  "kernelspec": {
   "display_name": "Python 3",
   "language": "python",
   "name": "python3"
  },
  "language_info": {
   "codemirror_mode": {
    "name": "ipython",
    "version": 3
   },
   "file_extension": ".py",
   "mimetype": "text/x-python",
   "name": "python",
   "nbconvert_exporter": "python",
   "pygments_lexer": "ipython3",
   "version": "3.6.8"
  },
  "orig_nbformat": 4
 },
 "nbformat": 4,
 "nbformat_minor": 2
}
